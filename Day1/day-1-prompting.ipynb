{
 "cells": [
  {
   "cell_type": "markdown",
   "id": "aa82927b",
   "metadata": {
    "id": "jkxRSYjzA1oX",
    "papermill": {
     "duration": 0.013799,
     "end_time": "2025-04-06T05:30:33.786817",
     "exception": false,
     "start_time": "2025-04-06T05:30:33.773018",
     "status": "completed"
    },
    "tags": []
   },
   "source": [
    "##### Copyright 2025 Google LLC."
   ]
  },
  {
   "cell_type": "code",
   "execution_count": 1,
   "id": "5ac60ca6",
   "metadata": {
    "cellView": "form",
    "execution": {
     "iopub.execute_input": "2025-04-06T05:30:33.817383Z",
     "iopub.status.busy": "2025-04-06T05:30:33.816957Z",
     "iopub.status.idle": "2025-04-06T05:30:33.822736Z",
     "shell.execute_reply": "2025-04-06T05:30:33.821724Z"
    },
    "id": "5u5OZ2ShA3BA",
    "papermill": {
     "duration": 0.024453,
     "end_time": "2025-04-06T05:30:33.825168",
     "exception": false,
     "start_time": "2025-04-06T05:30:33.800715",
     "status": "completed"
    },
    "tags": []
   },
   "outputs": [],
   "source": [
    "# @title Licensed under the Apache License, Version 2.0 (the \"License\");\n",
    "# you may not use this file except in compliance with the License.\n",
    "# You may obtain a copy of the License at\n",
    "#\n",
    "# https://www.apache.org/licenses/LICENSE-2.0\n",
    "#\n",
    "# Unless required by applicable law or agreed to in writing, software\n",
    "# distributed under the License is distributed on an \"AS IS\" BASIS,\n",
    "# WITHOUT WARRANTIES OR CONDITIONS OF ANY KIND, either express or implied.\n",
    "# See the License for the specific language governing permissions and\n",
    "# limitations under the License."
   ]
  },
  {
   "cell_type": "markdown",
   "id": "e8f66d62",
   "metadata": {
    "id": "csNPnkuCobmG",
    "papermill": {
     "duration": 0.012529,
     "end_time": "2025-04-06T05:30:33.850438",
     "exception": false,
     "start_time": "2025-04-06T05:30:33.837909",
     "status": "completed"
    },
    "tags": []
   },
   "source": [
    "# Day 1 - Prompting\n",
    "\n",
    "Welcome to the Kaggle 5-day Generative AI course!\n",
    "\n",
    "This notebook will show you how to get started with the Gemini API and walk you through some of the example prompts and techniques that you can also read about in the Prompting whitepaper. You don't need to read the whitepaper to use this notebook, but the papers will give you some theoretical context and background to complement this interactive notebook.\n",
    "\n",
    "\n",
    "## Before you begin\n",
    "\n",
    "In this notebook, you'll start exploring prompting using the Python SDK and AI Studio. For some inspiration, you might enjoy exploring some apps that have been built using the Gemini family of models. Here are a few that we like, and we think you will too.\n",
    "\n",
    "* [TextFX](https://textfx.withgoogle.com/) is a suite of AI-powered tools for rappers, made in collaboration with Lupe Fiasco,\n",
    "* [SQL Talk](https://sql-talk-r5gdynozbq-uc.a.run.app/) shows how you can talk directly to a database using the Gemini API,\n",
    "* [NotebookLM](https://notebooklm.google/) uses Gemini models to build your own personal AI research assistant.\n",
    "\n",
    "\n",
    "## For help\n",
    "\n",
    "**Common issues are covered in the [FAQ and troubleshooting guide](https://www.kaggle.com/code/markishere/day-0-troubleshooting-and-faqs).**\n",
    "\n",
    "## New for Gemini 2.0!\n",
    "\n",
    "This course material was first launched in November 2024. The AI and LLM space is moving incredibly fast, so we have made some updates to use the latest models and capabilities.\n",
    "\n",
    "* These codelabs have been updated to use the Gemini 2.0 family of models.\n",
    "* The Python SDK has been updated from `google-generativeai` to the new, unified [`google-genai`](https://pypi.org/project/google-genai) SDK.\n",
    "  * This new SDK works with both the developer Gemini API as well as Google Cloud Vertex AI, and switching is [as simple as changing some fields](https://pypi.org/project/google-genai/#:~:text=.Client%28%29-,API%20Selection,-By%20default%2C%20the).\n",
    "* New model capabilities have been added to the relevant codelabs, such as \"thinking mode\" in this lab.\n",
    "* Day 1 includes a new [Evaluation codelab](https://www.kaggle.com/code/markishere/day-1-evaluation-and-structured-output)."
   ]
  },
  {
   "attachments": {
    "d8299597-f771-4195-ac94-1d6f658ef2bd.png": {
     "image/png": "[encoded data removed]"
    },
    "ed25e346-2e15-4ab0-bc22-503eb1845e66.png": {
     "image/png": "[encoded data removed]"
    }
   },
   "cell_type": "markdown",
   "id": "83f05adb",
   "metadata": {
    "id": "f00ea7c99e44",
    "papermill": {
     "duration": 0.012401,
     "end_time": "2025-04-06T05:30:33.876048",
     "exception": false,
     "start_time": "2025-04-06T05:30:33.863647",
     "status": "completed"
    },
    "tags": []
   },
   "source": [
    "## Get started with Kaggle notebooks\n",
    "\n",
    "If this is your first time using a Kaggle notebook, welcome! You can read about how to use Kaggle notebooks [in the docs](https://www.kaggle.com/docs/notebooks).\n",
    "\n",
    "First, you will need to phone verify your account at kaggle.com/settings.\n",
    "\n",
    "![](https://storage.googleapis.com/kaggle-media/Images/5dgai_0.png)"
   ]
  },
  {
   "cell_type": "markdown",
   "id": "ceff98eb",
   "metadata": {
    "papermill": {
     "duration": 0.01228,
     "end_time": "2025-04-06T05:30:33.901099",
     "exception": false,
     "start_time": "2025-04-06T05:30:33.888819",
     "status": "completed"
    },
    "tags": []
   },
   "source": [
    "To run this notebook, as well as the others in this course, you will need to make a copy, or fork, the notebook. Look for the `Copy and Edit` button in the top-right, and **click it** to make an editable, private copy of the notebook. It should look like this one:\n",
    "\n",
    "![Copy and Edit button](https://storage.googleapis.com/kaggle-media/Images/5gdai_sc_1.png)\n",
    "\n",
    "Your copy will now have a ▶️ **Run** button next to each code cell that you can press to execute that cell. These notebooks are expected to be run in order from top-to-bottom, but you are encouraged to add new cells, run your own code and explore. If you get stuck, you can try the `Factory reset` option in the `Run` menu, or head back to the original notebook and make a fresh copy.\n",
    "\n",
    "![Run cell button](https://storage.googleapis.com/kaggle-media/Images/5gdai_sc_2.png)\n",
    "\n",
    "### Problems?\n",
    "\n",
    "If you have any problems, head over to the [Kaggle Discord](https://discord.com/invite/kaggle), find the [`#5dgai-q-and-a` channel](https://discord.com/channels/1101210829807956100/1303438695143178251) and ask for help."
   ]
  },
  {
   "cell_type": "markdown",
   "id": "5d58dd8b",
   "metadata": {
    "id": "ExkOXcPxtTb5",
    "papermill": {
     "duration": 0.012195,
     "end_time": "2025-04-06T05:30:33.925760",
     "exception": false,
     "start_time": "2025-04-06T05:30:33.913565",
     "status": "completed"
    },
    "tags": []
   },
   "source": [
    "## Get started with the Gemini API\n",
    "\n",
    "All of the exercises in this notebook will use the [Gemini API](https://ai.google.dev/gemini-api/) by way of the [Python SDK](https://pypi.org/project/google-genai/). Each of these prompts can be accessed directly in [Google AI Studio](https://aistudio.google.com/) too, so if you would rather use a web interface and skip the code for this activity, look for the <img src=\"https://ai.google.dev/site-assets/images/marketing/home/icon-ais.png\" style=\"height: 24px\" height=24/> AI Studio link on each prompt."
   ]
  },
  {
   "cell_type": "markdown",
   "id": "615aaae3",
   "metadata": {
    "papermill": {
     "duration": 0.012164,
     "end_time": "2025-04-06T05:30:33.950410",
     "exception": false,
     "start_time": "2025-04-06T05:30:33.938246",
     "status": "completed"
    },
    "tags": []
   },
   "source": [
    "Next, you will need to add your API key to your Kaggle Notebook as a Kaggle User Secret.\n",
    "\n",
    "![](https://storage.googleapis.com/kaggle-media/Images/5dgai_1.png)\n",
    "![](https://storage.googleapis.com/kaggle-media/Images/5dgai_2.png)\n",
    "![](https://storage.googleapis.com/kaggle-media/Images/5dgai_3.png)\n",
    "![](https://storage.googleapis.com/kaggle-media/Images/5dgai_4.png)"
   ]
  },
  {
   "cell_type": "markdown",
   "id": "857b8d14",
   "metadata": {
    "id": "UAjUV3BsvFXQ",
    "papermill": {
     "duration": 0.012242,
     "end_time": "2025-04-06T05:30:33.975305",
     "exception": false,
     "start_time": "2025-04-06T05:30:33.963063",
     "status": "completed"
    },
    "tags": []
   },
   "source": [
    "### Install the SDK"
   ]
  },
  {
   "cell_type": "code",
   "execution_count": 2,
   "id": "970d6a92",
   "metadata": {
    "execution": {
     "iopub.execute_input": "2025-04-06T05:30:34.002095Z",
     "iopub.status.busy": "2025-04-06T05:30:34.001701Z",
     "iopub.status.idle": "2025-04-06T05:30:53.470992Z",
     "shell.execute_reply": "2025-04-06T05:30:53.469490Z"
    },
    "id": "NzwzJFU9LqkJ",
    "papermill": {
     "duration": 19.485959,
     "end_time": "2025-04-06T05:30:53.473891",
     "exception": false,
     "start_time": "2025-04-06T05:30:33.987932",
     "status": "completed"
    },
    "tags": []
   },
   "outputs": [],
   "source": [
    "!pip uninstall -qqy jupyterlab  # Remove unused packages from Kaggle's base image that conflict\n",
    "!pip install -U -q \"google-genai==1.7.0\""
   ]
  },
  {
   "cell_type": "markdown",
   "id": "5626898e",
   "metadata": {
    "papermill": {
     "duration": 0.012182,
     "end_time": "2025-04-06T05:30:53.498722",
     "exception": false,
     "start_time": "2025-04-06T05:30:53.486540",
     "status": "completed"
    },
    "tags": []
   },
   "source": [
    "Import the SDK and some helpers for rendering the output."
   ]
  },
  {
   "cell_type": "code",
   "execution_count": 3,
   "id": "a1187bf0",
   "metadata": {
    "execution": {
     "iopub.execute_input": "2025-04-06T05:30:53.526027Z",
     "iopub.status.busy": "2025-04-06T05:30:53.525590Z",
     "iopub.status.idle": "2025-04-06T05:30:54.894971Z",
     "shell.execute_reply": "2025-04-06T05:30:54.893953Z"
    },
    "id": "5DwxYIRavMST",
    "papermill": {
     "duration": 1.386156,
     "end_time": "2025-04-06T05:30:54.897674",
     "exception": false,
     "start_time": "2025-04-06T05:30:53.511518",
     "status": "completed"
    },
    "tags": []
   },
   "outputs": [],
   "source": [
    "from google import genai\n",
    "from google.genai import types\n",
    "\n",
    "from IPython.display import HTML, Markdown, display"
   ]
  },
  {
   "cell_type": "markdown",
   "id": "b3263a8e",
   "metadata": {
    "papermill": {
     "duration": 0.011909,
     "end_time": "2025-04-06T05:30:54.922188",
     "exception": false,
     "start_time": "2025-04-06T05:30:54.910279",
     "status": "completed"
    },
    "tags": []
   },
   "source": [
    "Set up a retry helper. This allows you to \"Run all\" without worrying about per-minute quota."
   ]
  },
  {
   "cell_type": "code",
   "execution_count": 4,
   "id": "cbf05faf",
   "metadata": {
    "execution": {
     "iopub.execute_input": "2025-04-06T05:30:54.948660Z",
     "iopub.status.busy": "2025-04-06T05:30:54.948093Z",
     "iopub.status.idle": "2025-04-06T05:30:55.142402Z",
     "shell.execute_reply": "2025-04-06T05:30:55.141245Z"
    },
    "papermill": {
     "duration": 0.210352,
     "end_time": "2025-04-06T05:30:55.144922",
     "exception": false,
     "start_time": "2025-04-06T05:30:54.934570",
     "status": "completed"
    },
    "tags": []
   },
   "outputs": [],
   "source": [
    "from google.api_core import retry\n",
    "\n",
    "\n",
    "is_retriable = lambda e: (isinstance(e, genai.errors.APIError) and e.code in {429, 503})\n",
    "\n",
    "genai.models.Models.generate_content = retry.Retry(\n",
    "    predicate=is_retriable)(genai.models.Models.generate_content)"
   ]
  },
  {
   "cell_type": "markdown",
   "id": "ae9713ac",
   "metadata": {
    "id": "DNEt2BCOvOJ1",
    "papermill": {
     "duration": 0.012074,
     "end_time": "2025-04-06T05:30:55.169342",
     "exception": false,
     "start_time": "2025-04-06T05:30:55.157268",
     "status": "completed"
    },
    "tags": []
   },
   "source": [
    "### Set up your API key\n",
    "\n",
    "To run the following cell, your API key must be stored it in a [Kaggle secret](https://www.kaggle.com/discussions/product-feedback/114053) named `GOOGLE_API_KEY`.\n",
    "\n",
    "If you don't already have an API key, you can grab one from [AI Studio](https://aistudio.google.com/app/apikey). You can find [detailed instructions in the docs](https://ai.google.dev/gemini-api/docs/api-key).\n",
    "\n",
    "To make the key available through Kaggle secrets, choose `Secrets` from the `Add-ons` menu and follow the instructions to add your key or enable it for this notebook."
   ]
  },
  {
   "cell_type": "code",
   "execution_count": 5,
   "id": "e784b8e0",
   "metadata": {
    "execution": {
     "iopub.execute_input": "2025-04-06T05:30:55.197458Z",
     "iopub.status.busy": "2025-04-06T05:30:55.196883Z",
     "iopub.status.idle": "2025-04-06T05:30:55.294578Z",
     "shell.execute_reply": "2025-04-06T05:30:55.293629Z"
    },
    "id": "SHl0bkPCvayd",
    "papermill": {
     "duration": 0.11512,
     "end_time": "2025-04-06T05:30:55.297019",
     "exception": false,
     "start_time": "2025-04-06T05:30:55.181899",
     "status": "completed"
    },
    "tags": []
   },
   "outputs": [],
   "source": [
    "from kaggle_secrets import UserSecretsClient\n",
    "\n",
    "GOOGLE_API_KEY = UserSecretsClient().get_secret(\"GOOGLE_API_KEY\")"
   ]
  },
  {
   "attachments": {
    "d2be9aab-2527-48af-b6cf-1f06cdd7c3a7.png": {
     "image/png": "[encoded data removed]"
    }
   },
   "cell_type": "markdown",
   "id": "d2ac8241",
   "metadata": {
    "id": "4e720472fd86",
    "papermill": {
     "duration": 0.012115,
     "end_time": "2025-04-06T05:30:55.321562",
     "exception": false,
     "start_time": "2025-04-06T05:30:55.309447",
     "status": "completed"
    },
    "tags": []
   },
   "source": [
    "If you received an error response along the lines of `No user secrets exist for kernel id ...`, then you need to add your API key via `Add-ons`, `Secrets` **and** enable it.\n",
    "\n",
    "![Screenshot of the checkbox to enable GOOGLE_API_KEY secret](https://storage.googleapis.com/kaggle-media/Images/5gdai_sc_3.png)"
   ]
  },
  {
   "cell_type": "markdown",
   "id": "7bd194d6",
   "metadata": {
    "id": "H_YXCYIKvyZJ",
    "papermill": {
     "duration": 0.013605,
     "end_time": "2025-04-06T05:30:55.347497",
     "exception": false,
     "start_time": "2025-04-06T05:30:55.333892",
     "status": "completed"
    },
    "tags": []
   },
   "source": [
    "### Run your first prompt\n",
    "\n",
    "In this step, you will test that your API key is set up correctly by making a request.\n",
    "\n",
    "The Python SDK uses a [`Client` object](https://googleapis.github.io/python-genai/genai.html#genai.client.Client) to make requests to the API. The client lets you control which back-end to use (between the Gemini API and Vertex AI) and handles authentication (the API key).\n",
    "\n",
    "The `gemini-2.0-flash` model has been selected here.\n",
    "\n",
    "**Note**: If you see a `TransportError` on this step, you may need to **🔁 Factory reset** the notebook one time."
   ]
  },
  {
   "cell_type": "code",
   "execution_count": 6,
   "id": "5fffd690",
   "metadata": {
    "execution": {
     "iopub.execute_input": "2025-04-06T05:30:55.390850Z",
     "iopub.status.busy": "2025-04-06T05:30:55.390079Z",
     "iopub.status.idle": "2025-04-06T05:30:57.945657Z",
     "shell.execute_reply": "2025-04-06T05:30:57.944450Z"
    },
    "id": "BV1o0PmcvyJF",
    "papermill": {
     "duration": 2.581649,
     "end_time": "2025-04-06T05:30:57.947962",
     "exception": false,
     "start_time": "2025-04-06T05:30:55.366313",
     "status": "completed"
    },
    "tags": []
   },
   "outputs": [
    {
     "name": "stdout",
     "output_type": "stream",
     "text": [
      "Okay, imagine you have a really, really smart robot.  Smarter than you AND me!\n",
      "\n",
      "This robot doesn't just do what you tell it exactly, like turning on a light. It can actually learn things and figure things out on its own.  That's AI!\n",
      "\n",
      "Think about it like this:\n",
      "\n",
      "*   **Learning to ride a bike:** At first, you fall down a lot! But you keep trying, and each time you learn a little bit. You learn how to balance, how to pedal, how to steer.  AI is like that.  It tries things, sees what works, and learns from its mistakes.\n",
      "\n",
      "*   **Playing a game:**  Imagine a computer game where you have to win. The AI in the game can play against you. At first, it might be bad. But it keeps playing and playing, and it learns the best moves to make to win!\n",
      "\n",
      "*   **Recognizing your face:**  Your phone can recognize your face to unlock.  That's AI! It's learned what your face looks like by seeing it many times.\n",
      "\n",
      "So basically, AI is like giving a computer brainpower so it can learn, solve problems, and make decisions, just like you do!  But it's really, really fast and can learn from tons of information.\n",
      "\n",
      "It's like having a super-smart helper that can do all sorts of amazing things! From recommending your favourite shows to driving a car by itself, AI is making the world a very interesting place.\n",
      "\n"
     ]
    }
   ],
   "source": [
    "client = genai.Client(api_key=GOOGLE_API_KEY)\n",
    "\n",
    "response = client.models.generate_content(\n",
    "    model=\"gemini-2.0-flash\",\n",
    "    contents=\"Explain AI to me like I'm a kid.\")\n",
    "\n",
    "print(response.text)"
   ]
  },
  {
   "cell_type": "markdown",
   "id": "19c198ea",
   "metadata": {
    "id": "f60ed9d8ae41",
    "papermill": {
     "duration": 0.012919,
     "end_time": "2025-04-06T05:30:57.975962",
     "exception": false,
     "start_time": "2025-04-06T05:30:57.963043",
     "status": "completed"
    },
    "tags": []
   },
   "source": [
    "The response often comes back in markdown format, which you can render directly in this notebook."
   ]
  },
  {
   "cell_type": "code",
   "execution_count": 7,
   "id": "fc944e80",
   "metadata": {
    "execution": {
     "iopub.execute_input": "2025-04-06T05:30:58.003958Z",
     "iopub.status.busy": "2025-04-06T05:30:58.003556Z",
     "iopub.status.idle": "2025-04-06T05:30:58.011889Z",
     "shell.execute_reply": "2025-04-06T05:30:58.010706Z"
    },
    "id": "c933e5e460a5",
    "papermill": {
     "duration": 0.025364,
     "end_time": "2025-04-06T05:30:58.014106",
     "exception": false,
     "start_time": "2025-04-06T05:30:57.988742",
     "status": "completed"
    },
    "tags": []
   },
   "outputs": [
    {
     "data": {
      "text/markdown": [
       "Okay, imagine you have a really, really smart robot.  Smarter than you AND me!\n",
       "\n",
       "This robot doesn't just do what you tell it exactly, like turning on a light. It can actually learn things and figure things out on its own.  That's AI!\n",
       "\n",
       "Think about it like this:\n",
       "\n",
       "*   **Learning to ride a bike:** At first, you fall down a lot! But you keep trying, and each time you learn a little bit. You learn how to balance, how to pedal, how to steer.  AI is like that.  It tries things, sees what works, and learns from its mistakes.\n",
       "\n",
       "*   **Playing a game:**  Imagine a computer game where you have to win. The AI in the game can play against you. At first, it might be bad. But it keeps playing and playing, and it learns the best moves to make to win!\n",
       "\n",
       "*   **Recognizing your face:**  Your phone can recognize your face to unlock.  That's AI! It's learned what your face looks like by seeing it many times.\n",
       "\n",
       "So basically, AI is like giving a computer brainpower so it can learn, solve problems, and make decisions, just like you do!  But it's really, really fast and can learn from tons of information.\n",
       "\n",
       "It's like having a super-smart helper that can do all sorts of amazing things! From recommending your favourite shows to driving a car by itself, AI is making the world a very interesting place.\n"
      ],
      "text/plain": [
       "<IPython.core.display.Markdown object>"
      ]
     },
     "execution_count": 7,
     "metadata": {},
     "output_type": "execute_result"
    }
   ],
   "source": [
    "Markdown(response.text)"
   ]
  },
  {
   "cell_type": "markdown",
   "id": "52a71eb9",
   "metadata": {
    "id": "byx0pT9ZMW2Q",
    "papermill": {
     "duration": 0.012923,
     "end_time": "2025-04-06T05:30:58.040001",
     "exception": false,
     "start_time": "2025-04-06T05:30:58.027078",
     "status": "completed"
    },
    "tags": []
   },
   "source": [
    "### Start a chat\n",
    "\n",
    "The previous example uses a single-turn, text-in/text-out structure, but you can also set up a multi-turn chat structure too."
   ]
  },
  {
   "cell_type": "code",
   "execution_count": 8,
   "id": "208f6664",
   "metadata": {
    "execution": {
     "iopub.execute_input": "2025-04-06T05:30:58.067449Z",
     "iopub.status.busy": "2025-04-06T05:30:58.067050Z",
     "iopub.status.idle": "2025-04-06T05:30:58.538479Z",
     "shell.execute_reply": "2025-04-06T05:30:58.537334Z"
    },
    "id": "lV_S5ZL5MidD",
    "papermill": {
     "duration": 0.488143,
     "end_time": "2025-04-06T05:30:58.541073",
     "exception": false,
     "start_time": "2025-04-06T05:30:58.052930",
     "status": "completed"
    },
    "tags": []
   },
   "outputs": [
    {
     "name": "stdout",
     "output_type": "stream",
     "text": [
      "Hello Sanjan! It's nice to meet you. How can I help you today?\n",
      "\n"
     ]
    }
   ],
   "source": [
    "chat = client.chats.create(model='gemini-2.0-flash', history=[])\n",
    "response = chat.send_message('Hello! My name is sanjan.')\n",
    "print(response.text)"
   ]
  },
  {
   "cell_type": "code",
   "execution_count": 9,
   "id": "fbac01da",
   "metadata": {
    "execution": {
     "iopub.execute_input": "2025-04-06T05:30:58.569533Z",
     "iopub.status.busy": "2025-04-06T05:30:58.569090Z",
     "iopub.status.idle": "2025-04-06T05:30:59.675016Z",
     "shell.execute_reply": "2025-04-06T05:30:59.673759Z"
    },
    "id": "7b0372c3c64a",
    "papermill": {
     "duration": 1.12311,
     "end_time": "2025-04-06T05:30:59.677631",
     "exception": false,
     "start_time": "2025-04-06T05:30:58.554521",
     "status": "completed"
    },
    "tags": []
   },
   "outputs": [
    {
     "name": "stdout",
     "output_type": "stream",
     "text": [
      "Okay, here's a fascinating fact about dinosaurs:\n",
      "\n",
      "**Did you know that some dinosaurs had feathers, even the mighty Tyrannosaurus Rex?**\n",
      "\n",
      "While we often picture dinosaurs as scaly reptiles, evidence suggests that many species, including some members of the Tyrannosaur family, actually possessed feathers. These feathers weren't necessarily for flight; they were likely used for insulation, display, or even camouflage. Scientists have found fossil evidence, including imprints of feathers and even structures within bones that suggest feather attachments, which supports this theory.\n",
      "\n",
      "So, the image of a giant, feathery T. Rex might not be as far-fetched as you think!\n",
      "\n"
     ]
    }
   ],
   "source": [
    "response = chat.send_message('Can you tell me something interesting about dinosaurs?')\n",
    "print(response.text)"
   ]
  },
  {
   "cell_type": "markdown",
   "id": "53b0701e",
   "metadata": {
    "papermill": {
     "duration": 0.01262,
     "end_time": "2025-04-06T05:30:59.703233",
     "exception": false,
     "start_time": "2025-04-06T05:30:59.690613",
     "status": "completed"
    },
    "tags": []
   },
   "source": [
    "While you have the `chat` object alive, the conversation state\n",
    "persists. Confirm that by asking if it knows the user's name."
   ]
  },
  {
   "cell_type": "code",
   "execution_count": 10,
   "id": "c6563e1f",
   "metadata": {
    "execution": {
     "iopub.execute_input": "2025-04-06T05:30:59.731004Z",
     "iopub.status.busy": "2025-04-06T05:30:59.730626Z",
     "iopub.status.idle": "2025-04-06T05:31:00.092154Z",
     "shell.execute_reply": "2025-04-06T05:31:00.090945Z"
    },
    "id": "d3f9591392a7",
    "papermill": {
     "duration": 0.378091,
     "end_time": "2025-04-06T05:31:00.094522",
     "exception": false,
     "start_time": "2025-04-06T05:30:59.716431",
     "status": "completed"
    },
    "tags": []
   },
   "outputs": [
    {
     "name": "stdout",
     "output_type": "stream",
     "text": [
      "Yes, your name is Sanjan.\n",
      "\n"
     ]
    }
   ],
   "source": [
    "response = chat.send_message('Do you remember what my name is?')\n",
    "print(response.text)"
   ]
  },
  {
   "cell_type": "markdown",
   "id": "86fe6c8c",
   "metadata": {
    "id": "2KAjpr1200sW",
    "papermill": {
     "duration": 0.013286,
     "end_time": "2025-04-06T05:31:00.121288",
     "exception": false,
     "start_time": "2025-04-06T05:31:00.108002",
     "status": "completed"
    },
    "tags": []
   },
   "source": [
    "### Choose a model\n",
    "\n",
    "The Gemini API provides access to a number of models from the Gemini model family. Read about the available models and their capabilities on the [model overview page](https://ai.google.dev/gemini-api/docs/models/gemini).\n",
    "\n",
    "In this step you'll use the API to list all of the available models."
   ]
  },
  {
   "cell_type": "code",
   "execution_count": 11,
   "id": "5c22794f",
   "metadata": {
    "execution": {
     "iopub.execute_input": "2025-04-06T05:31:00.149301Z",
     "iopub.status.busy": "2025-04-06T05:31:00.148904Z",
     "iopub.status.idle": "2025-04-06T05:31:00.204738Z",
     "shell.execute_reply": "2025-04-06T05:31:00.203423Z"
    },
    "id": "uUUZa2uq2jDm",
    "papermill": {
     "duration": 0.072713,
     "end_time": "2025-04-06T05:31:00.207167",
     "exception": false,
     "start_time": "2025-04-06T05:31:00.134454",
     "status": "completed"
    },
    "tags": []
   },
   "outputs": [
    {
     "name": "stdout",
     "output_type": "stream",
     "text": [
      "models/chat-bison-001\n",
      "models/text-bison-001\n",
      "models/embedding-gecko-001\n",
      "models/gemini-1.0-pro-vision-latest\n",
      "models/gemini-pro-vision\n",
      "models/gemini-1.5-pro-latest\n",
      "models/gemini-1.5-pro-001\n",
      "models/gemini-1.5-pro-002\n",
      "models/gemini-1.5-pro\n",
      "models/gemini-1.5-flash-latest\n",
      "models/gemini-1.5-flash-001\n",
      "models/gemini-1.5-flash-001-tuning\n",
      "models/gemini-1.5-flash\n",
      "models/gemini-1.5-flash-002\n",
      "models/gemini-1.5-flash-8b\n",
      "models/gemini-1.5-flash-8b-001\n",
      "models/gemini-1.5-flash-8b-latest\n",
      "models/gemini-1.5-flash-8b-exp-0827\n",
      "models/gemini-1.5-flash-8b-exp-0924\n",
      "models/gemini-2.5-pro-exp-03-25\n",
      "models/gemini-2.5-pro-preview-03-25\n",
      "models/gemini-2.0-flash-exp\n",
      "models/gemini-2.0-flash\n",
      "models/gemini-2.0-flash-001\n",
      "models/gemini-2.0-flash-exp-image-generation\n",
      "models/gemini-2.0-flash-lite-001\n",
      "models/gemini-2.0-flash-lite\n",
      "models/gemini-2.0-flash-lite-preview-02-05\n",
      "models/gemini-2.0-flash-lite-preview\n",
      "models/gemini-2.0-pro-exp\n",
      "models/gemini-2.0-pro-exp-02-05\n",
      "models/gemini-exp-1206\n",
      "models/gemini-2.0-flash-thinking-exp-01-21\n",
      "models/gemini-2.0-flash-thinking-exp\n",
      "models/gemini-2.0-flash-thinking-exp-1219\n",
      "models/learnlm-1.5-pro-experimental\n",
      "models/gemma-3-1b-it\n",
      "models/gemma-3-4b-it\n",
      "models/gemma-3-12b-it\n",
      "models/gemma-3-27b-it\n",
      "models/embedding-001\n",
      "models/text-embedding-004\n",
      "models/gemini-embedding-exp-03-07\n",
      "models/gemini-embedding-exp\n",
      "models/aqa\n",
      "models/imagen-3.0-generate-002\n"
     ]
    }
   ],
   "source": [
    "for model in client.models.list():\n",
    "  print(model.name)"
   ]
  },
  {
   "cell_type": "markdown",
   "id": "aa7823ce",
   "metadata": {
    "id": "rN49kSI54R1v",
    "papermill": {
     "duration": 0.012971,
     "end_time": "2025-04-06T05:31:00.233786",
     "exception": false,
     "start_time": "2025-04-06T05:31:00.220815",
     "status": "completed"
    },
    "tags": []
   },
   "source": [
    "The [`models.list`](https://ai.google.dev/api/models#method:-models.list) response also returns additional information about the model's capabilities, like the token limits and supported parameters."
   ]
  },
  {
   "cell_type": "code",
   "execution_count": 12,
   "id": "8c24d2a6",
   "metadata": {
    "execution": {
     "iopub.execute_input": "2025-04-06T05:31:00.262619Z",
     "iopub.status.busy": "2025-04-06T05:31:00.262196Z",
     "iopub.status.idle": "2025-04-06T05:31:00.355760Z",
     "shell.execute_reply": "2025-04-06T05:31:00.354274Z"
    },
    "id": "k7JJ1K6j4Rl8",
    "papermill": {
     "duration": 0.110817,
     "end_time": "2025-04-06T05:31:00.358302",
     "exception": false,
     "start_time": "2025-04-06T05:31:00.247485",
     "status": "completed"
    },
    "tags": []
   },
   "outputs": [
    {
     "name": "stdout",
     "output_type": "stream",
     "text": [
      "{'description': 'Gemini 2.0 Flash',\n",
      " 'display_name': 'Gemini 2.0 Flash',\n",
      " 'input_token_limit': 1048576,\n",
      " 'name': 'models/gemini-2.0-flash',\n",
      " 'output_token_limit': 8192,\n",
      " 'supported_actions': ['generateContent', 'countTokens'],\n",
      " 'tuned_model_info': {},\n",
      " 'version': '2.0'}\n"
     ]
    }
   ],
   "source": [
    "from pprint import pprint\n",
    "\n",
    "for model in client.models.list():\n",
    "  if model.name == 'models/gemini-2.0-flash':\n",
    "    pprint(model.to_json_dict())\n",
    "    break"
   ]
  },
  {
   "cell_type": "markdown",
   "id": "387b9eec",
   "metadata": {
    "id": "5rU_UBlZdooM",
    "papermill": {
     "duration": 0.01296,
     "end_time": "2025-04-06T05:31:00.384672",
     "exception": false,
     "start_time": "2025-04-06T05:31:00.371712",
     "status": "completed"
    },
    "tags": []
   },
   "source": [
    "## Explore generation parameters\n",
    "\n"
   ]
  },
  {
   "cell_type": "markdown",
   "id": "ea87d536",
   "metadata": {
    "id": "G7NfEizeipbW",
    "papermill": {
     "duration": 0.013736,
     "end_time": "2025-04-06T05:31:00.411858",
     "exception": false,
     "start_time": "2025-04-06T05:31:00.398122",
     "status": "completed"
    },
    "tags": []
   },
   "source": [
    "### Output length\n",
    "\n",
    "When generating text with an LLM, the output length affects cost and performance. Generating more tokens increases computation, leading to higher energy consumption, latency, and cost.\n",
    "\n",
    "To stop the model from generating tokens past a limit, you can specify the `max_output_tokens` parameter when using the Gemini API. Specifying this parameter does not influence the generation of the output tokens, so the output will not become more stylistically or textually succinct, but it will stop generating tokens once the specified length is reached. Prompt engineering may be required to generate a more complete output for your given limit."
   ]
  },
  {
   "cell_type": "code",
   "execution_count": 13,
   "id": "be6613f7",
   "metadata": {
    "execution": {
     "iopub.execute_input": "2025-04-06T05:31:00.439687Z",
     "iopub.status.busy": "2025-04-06T05:31:00.439250Z",
     "iopub.status.idle": "2025-04-06T05:31:01.877696Z",
     "shell.execute_reply": "2025-04-06T05:31:01.876296Z"
    },
    "id": "qVf23JsIi9ma",
    "papermill": {
     "duration": 1.4552,
     "end_time": "2025-04-06T05:31:01.880057",
     "exception": false,
     "start_time": "2025-04-06T05:31:00.424857",
     "status": "completed"
    },
    "tags": []
   },
   "outputs": [
    {
     "name": "stdout",
     "output_type": "stream",
     "text": [
      "## The Enduring Olive: A Cornerstone of Modern Society\n",
      "\n",
      "The olive, that small, unassuming fruit, holds a significance that extends far beyond its culinary appeal. For millennia, the olive tree (Olea europaea) has been a symbol of peace, wisdom, and prosperity, deeply intertwined with the history and culture of the Mediterranean. Today, the olive continues to play a crucial role in modern society, contributing to our diets, economies, health, and even our understanding of sustainability. From its foundational presence in the Mediterranean diet to its growing importance in sustainable agriculture and the biofuel industry, the olive's impact is surprisingly pervasive and undeniably important.\n",
      "\n",
      "Perhaps the most widely recognized contribution of the olive to modern society is its central role in the Mediterranean diet. This dietary pattern, lauded for its health benefits by countless scientific studies, prioritizes fresh fruits, vegetables, whole grains, legumes, and, crucially, olive oil. Olive oil, extracted from the fruit of the olive tree, is a rich source\n"
     ]
    }
   ],
   "source": [
    "from google.genai import types\n",
    "\n",
    "short_config = types.GenerateContentConfig(max_output_tokens=200)\n",
    "\n",
    "response = client.models.generate_content(\n",
    "    model='gemini-2.0-flash',\n",
    "    config=short_config,\n",
    "    contents='Write a 1000 word essay on the importance of olives in modern society.')\n",
    "\n",
    "print(response.text)"
   ]
  },
  {
   "cell_type": "code",
   "execution_count": 14,
   "id": "58b9b193",
   "metadata": {
    "execution": {
     "iopub.execute_input": "2025-04-06T05:31:01.908671Z",
     "iopub.status.busy": "2025-04-06T05:31:01.908177Z",
     "iopub.status.idle": "2025-04-06T05:31:02.737055Z",
     "shell.execute_reply": "2025-04-06T05:31:02.735970Z"
    },
    "id": "W-3kR2F5kdMR",
    "papermill": {
     "duration": 0.845766,
     "end_time": "2025-04-06T05:31:02.739399",
     "exception": false,
     "start_time": "2025-04-06T05:31:01.893633",
     "status": "completed"
    },
    "tags": []
   },
   "outputs": [
    {
     "name": "stdout",
     "output_type": "stream",
     "text": [
      "From ancient groves to tables spread,\n",
      "A tiny fruit, though potent fed.\n",
      "In oil it flows, a golden grace,\n",
      "On salads bright, in every place.\n",
      "\n",
      "A tapenade, a savory bite,\n",
      "A Mediterranean sunlit light.\n",
      "From health to taste, a vital role,\n",
      "The humble olive feeds the soul.\n",
      "\n"
     ]
    }
   ],
   "source": [
    "response = client.models.generate_content(\n",
    "    model='gemini-2.0-flash',\n",
    "    config=short_config,\n",
    "    contents='Write a short poem on the importance of olives in modern society.')\n",
    "\n",
    "print(response.text)"
   ]
  },
  {
   "cell_type": "markdown",
   "id": "d4576afe",
   "metadata": {
    "id": "3ZhDSLB6lqqB",
    "papermill": {
     "duration": 0.013113,
     "end_time": "2025-04-06T05:31:02.765898",
     "exception": false,
     "start_time": "2025-04-06T05:31:02.752785",
     "status": "completed"
    },
    "tags": []
   },
   "source": [
    "Explore with your own prompts. Try a prompt with a restrictive output limit and then adjust the prompt to work within that limit."
   ]
  },
  {
   "cell_type": "markdown",
   "id": "9bd85fa1",
   "metadata": {
    "id": "alx-WaAvir_9",
    "papermill": {
     "duration": 0.013049,
     "end_time": "2025-04-06T05:31:02.792734",
     "exception": false,
     "start_time": "2025-04-06T05:31:02.779685",
     "status": "completed"
    },
    "tags": []
   },
   "source": [
    "### Temperature\n",
    "\n",
    "Temperature controls the degree of randomness in token selection. Higher temperatures result in a higher number of candidate tokens from which the next output token is selected, and can produce more diverse results, while lower temperatures have the opposite effect, such that a temperature of 0 results in greedy decoding, selecting the most probable token at each step.\n",
    "\n",
    "Temperature doesn't provide any guarantees of randomness, but it can be used to \"nudge\" the output somewhat."
   ]
  },
  {
   "cell_type": "code",
   "execution_count": 15,
   "id": "f716a813",
   "metadata": {
    "execution": {
     "iopub.execute_input": "2025-04-06T05:31:02.821067Z",
     "iopub.status.busy": "2025-04-06T05:31:02.820708Z",
     "iopub.status.idle": "2025-04-06T05:31:04.671629Z",
     "shell.execute_reply": "2025-04-06T05:31:04.670252Z"
    },
    "id": "SHraGMzqnZqt",
    "papermill": {
     "duration": 1.868186,
     "end_time": "2025-04-06T05:31:04.674331",
     "exception": false,
     "start_time": "2025-04-06T05:31:02.806145",
     "status": "completed"
    },
    "tags": []
   },
   "outputs": [
    {
     "name": "stdout",
     "output_type": "stream",
     "text": [
      "Turquoise\n",
      " -------------------------\n",
      "Azure\n",
      " -------------------------\n",
      "Purple\n",
      " -------------------------\n",
      "Teal\n",
      " -------------------------\n",
      "Azure\n",
      " -------------------------\n"
     ]
    }
   ],
   "source": [
    "high_temp_config = types.GenerateContentConfig(temperature=2.0)\n",
    "\n",
    "\n",
    "for _ in range(5):\n",
    "  response = client.models.generate_content(\n",
    "      model='gemini-2.0-flash',\n",
    "      config=high_temp_config,\n",
    "      contents='Pick a random colour... (respond in a single word)')\n",
    "\n",
    "  if response.text:\n",
    "    print(response.text, '-' * 25)"
   ]
  },
  {
   "cell_type": "markdown",
   "id": "27b6ce30",
   "metadata": {
    "id": "z3J4pCTuof7e",
    "papermill": {
     "duration": 0.01431,
     "end_time": "2025-04-06T05:31:04.703091",
     "exception": false,
     "start_time": "2025-04-06T05:31:04.688781",
     "status": "completed"
    },
    "tags": []
   },
   "source": [
    "Now try the same prompt with temperature set to zero. Note that the output is not completely deterministic, as other parameters affect token selection, but the results will tend to be more stable."
   ]
  },
  {
   "cell_type": "code",
   "execution_count": 16,
   "id": "ead1dedc",
   "metadata": {
    "execution": {
     "iopub.execute_input": "2025-04-06T05:31:04.733899Z",
     "iopub.status.busy": "2025-04-06T05:31:04.733508Z",
     "iopub.status.idle": "2025-04-06T05:31:06.766882Z",
     "shell.execute_reply": "2025-04-06T05:31:06.765662Z"
    },
    "id": "clymkWv-PfUZ",
    "papermill": {
     "duration": 2.0511,
     "end_time": "2025-04-06T05:31:06.769237",
     "exception": false,
     "start_time": "2025-04-06T05:31:04.718137",
     "status": "completed"
    },
    "tags": []
   },
   "outputs": [
    {
     "name": "stdout",
     "output_type": "stream",
     "text": [
      "Azure\n",
      " -------------------------\n",
      "Azure\n",
      " -------------------------\n",
      "Azure\n",
      " -------------------------\n",
      "Azure\n",
      " -------------------------\n",
      "Azure\n",
      " -------------------------\n"
     ]
    }
   ],
   "source": [
    "low_temp_config = types.GenerateContentConfig(temperature=0.0)\n",
    "\n",
    "for _ in range(5):\n",
    "  response = client.models.generate_content(\n",
    "      model='gemini-2.0-flash',\n",
    "      config=low_temp_config,\n",
    "      contents='Pick a random colour... (respond in a single word)')\n",
    "\n",
    "  if response.text:\n",
    "    print(response.text, '-' * 25)"
   ]
  },
  {
   "cell_type": "markdown",
   "id": "3f56e7d1",
   "metadata": {
    "id": "St5nt3vzitsZ",
    "papermill": {
     "duration": 0.014511,
     "end_time": "2025-04-06T05:31:06.797786",
     "exception": false,
     "start_time": "2025-04-06T05:31:06.783275",
     "status": "completed"
    },
    "tags": []
   },
   "source": [
    "### Top-P\n",
    "\n",
    "Like temperature, the top-P parameter is also used to control the diversity of the model's output.\n",
    "\n",
    "Top-P defines the probability threshold that, once cumulatively exceeded, tokens stop being selected as candidates. A top-P of 0 is typically equivalent to greedy decoding, and a top-P of 1 typically selects every token in the model's vocabulary.\n",
    "\n",
    "You may also see top-K referenced in LLM literature. Top-K is not configurable in the Gemini 2.0 series of models, but can be changed in older models. Top-K is a positive integer that defines the number of most probable tokens from which to select the output token. A top-K of 1 selects a single token, performing greedy decoding.\n",
    "\n",
    "\n",
    "Run this example a number of times, change the settings and observe the change in output."
   ]
  },
  {
   "cell_type": "code",
   "execution_count": 17,
   "id": "2fa2b885",
   "metadata": {
    "execution": {
     "iopub.execute_input": "2025-04-06T05:31:06.827861Z",
     "iopub.status.busy": "2025-04-06T05:31:06.827474Z",
     "iopub.status.idle": "2025-04-06T05:31:47.772939Z",
     "shell.execute_reply": "2025-04-06T05:31:47.771668Z"
    },
    "id": "lPlzpEavUV8F",
    "papermill": {
     "duration": 40.976582,
     "end_time": "2025-04-06T05:31:47.788794",
     "exception": false,
     "start_time": "2025-04-06T05:31:06.812212",
     "status": "completed"
    },
    "tags": []
   },
   "outputs": [
    {
     "name": "stdout",
     "output_type": "stream",
     "text": [
      "Clementine, a tortoiseshell with a perpetually grumpy expression and a heart full of mischief, considered her life decidedly boring. Sunny window naps? Yawns. String chasing? Utterly predictable. Even terrorizing the dust bunnies under the sofa had lost its appeal. She yearned for adventure, for something… more.\n",
      "\n",
      "One gusty afternoon, the back door was left ajar. An opportunity, shimmering with the promise of the unknown, beckoned. Clementine hesitated only a moment, a flick of her tail signaling her resolve. She slipped out into the vast, green wilderness that was the backyard.\n",
      "\n",
      "At first, it was exhilarating. The tall blades of grass tickled her whiskers. The air hummed with the buzz of insects. She stalked a particularly plump grasshopper, imagining herself a miniature lioness hunting on the Serengeti.\n",
      "\n",
      "But the backyard wasn't the Serengeti. It was, in fact, quite small. Disappointment began to creep in. Then, she saw it: a gap in the fence, shrouded in shadow, leading into the neighbor's yard.\n",
      "\n",
      "This, she thought, was where the real adventure began.\n",
      "\n",
      "The neighbor's yard was a jungle compared to her own. Towering bushes dripped with dew. Fragrant flowers exploded in vibrant colors. Clementine explored, her senses on high alert. She dodged a grumpy gnome guarding a bird bath, eavesdropped on a conversation between two robins discussing the best place to find worms, and even narrowly avoided a sprinkler system that erupted with surprising force.\n",
      "\n",
      "Then, she heard it: a faint, plaintive meow. It was coming from the shed, a dark and forbidding structure tucked away in the far corner of the yard.\n",
      "\n",
      "Fear tugged at Clementine, but curiosity, that irresistible feline impulse, won. She crept towards the shed, her paws silent on the damp earth. Peeking through a crack in the door, she saw a small, white kitten huddled in a corner, trembling.\n",
      "\n",
      "The kitten was lost, scared, and clearly missing its mother. Clementine, the grumpy adventurer, felt a surprising surge of… well, not *exactly* sympathy, but something akin to it.\n",
      "\n",
      "Forget adventure, she thought. This was a rescue mission.\n",
      "\n",
      "Navigating the overgrown yard with the kitten clinging to her back proved challenging. The sprinkler system, now seemingly sentient, attacked with renewed vigor. The grumpy gnome launched a surprise ambush with a handful of pebbles. But Clementine persevered, driven by a newfound purpose.\n",
      "\n",
      "Finally, they reached the gap in the fence. She pushed the kitten through, and then squeezed through herself, landing triumphantly back in her own backyard.\n",
      "\n",
      "The kitten, now safe, began to purr, a tiny rumble of gratitude. Clementine, despite her usual aloofness, licked the kitten's head, a brief, almost imperceptible gesture of affection.\n",
      "\n",
      "Her owner, Mrs. Higgins, emerged from the house, her face etched with worry. \"Clementine! Where have you been?\"\n",
      "\n",
      "Before Clementine could explain her daring escapade (which, of course, she couldn't), Mrs. Higgins scooped up the kitten. \"Oh, you poor little thing! You must be lost.\"\n",
      "\n",
      "The kitten was reunited with its frantic mother shortly thereafter. Clementine watched from the window, a smug, self-satisfied look on her face.\n",
      "\n",
      "She hadn't found treasure, or faced any terrifying monsters. But she had found something more valuable: the satisfaction of helping another creature in need.\n",
      "\n",
      "As she curled up for a nap in her sunny window, Clementine knew that adventure didn't always mean scaling mountains or crossing oceans. Sometimes, it meant facing your fears, stepping outside your comfort zone, and doing something kind. And that, she decided, was a story worth napping on. The dust bunnies, she knew, could wait.\n",
      "\n"
     ]
    }
   ],
   "source": [
    "model_config = types.GenerateContentConfig(\n",
    "    # These are the default values for gemini-2.0-flash.\n",
    "    temperature=1.0,\n",
    "    top_p=0.95,\n",
    ")\n",
    "\n",
    "story_prompt = \"You are a creative writer. Write a short story about a cat who goes on an adventure.\"\n",
    "response = client.models.generate_content(\n",
    "    model='gemini-2.0-flash',\n",
    "    config=model_config,\n",
    "    contents=story_prompt)\n",
    "\n",
    "print(response.text)"
   ]
  },
  {
   "cell_type": "markdown",
   "id": "021d2737",
   "metadata": {
    "id": "rMrYs1koY6DX",
    "papermill": {
     "duration": 0.014033,
     "end_time": "2025-04-06T05:31:47.817769",
     "exception": false,
     "start_time": "2025-04-06T05:31:47.803736",
     "status": "completed"
    },
    "tags": []
   },
   "source": [
    "## Prompting\n",
    "\n",
    "This section contains some prompts from the chapter for you to try out directly in the API. Try changing the text here to see how each prompt performs with different instructions, more examples, or any other changes you can think of."
   ]
  },
  {
   "cell_type": "markdown",
   "id": "30929c9c",
   "metadata": {
    "id": "hhj_tQidZJP7",
    "papermill": {
     "duration": 0.013871,
     "end_time": "2025-04-06T05:31:47.846288",
     "exception": false,
     "start_time": "2025-04-06T05:31:47.832417",
     "status": "completed"
    },
    "tags": []
   },
   "source": [
    "### Zero-shot\n",
    "\n",
    "Zero-shot prompts are prompts that describe the request for the model directly.\n",
    "\n",
    "<table align=left>\n",
    "  <td>\n",
    "    <a target=\"_blank\" href=\"https://aistudio.google.com/prompts/1gzKKgDHwkAvexG5Up0LMtl1-6jKMKe4g\"><img src=\"https://ai.google.dev/site-assets/images/marketing/home/icon-ais.png\" style=\"height: 24px\" height=24/> Open in AI Studio</a>\n",
    "  </td>\n",
    "</table>"
   ]
  },
  {
   "cell_type": "code",
   "execution_count": 18,
   "id": "302dced5",
   "metadata": {
    "execution": {
     "iopub.execute_input": "2025-04-06T05:31:47.876818Z",
     "iopub.status.busy": "2025-04-06T05:31:47.876445Z",
     "iopub.status.idle": "2025-04-06T05:31:48.182947Z",
     "shell.execute_reply": "2025-04-06T05:31:48.181794Z"
    },
    "id": "1_t-cwnDZzbH",
    "papermill": {
     "duration": 0.324465,
     "end_time": "2025-04-06T05:31:48.185508",
     "exception": false,
     "start_time": "2025-04-06T05:31:47.861043",
     "status": "completed"
    },
    "tags": []
   },
   "outputs": [
    {
     "name": "stdout",
     "output_type": "stream",
     "text": [
      "POSITIVE\n",
      "\n"
     ]
    }
   ],
   "source": [
    "model_config = types.GenerateContentConfig(\n",
    "    temperature=0.1,\n",
    "    top_p=1,\n",
    "    max_output_tokens=5,\n",
    ")\n",
    "\n",
    "zero_shot_prompt = \"\"\"Classify movie reviews as POSITIVE, NEUTRAL or NEGATIVE.\n",
    "Review: \"Her\" is a disturbing study revealing the direction\n",
    "humanity is headed if AI is allowed to keep evolving,\n",
    "unchecked. I wish there were more movies like this masterpiece.\n",
    "Sentiment: \"\"\"\n",
    "\n",
    "response = client.models.generate_content(\n",
    "    model='gemini-2.0-flash',\n",
    "    config=model_config,\n",
    "    contents=zero_shot_prompt)\n",
    "\n",
    "print(response.text)"
   ]
  },
  {
   "cell_type": "markdown",
   "id": "c6a030fe",
   "metadata": {
    "id": "3b5568bdeb11",
    "papermill": {
     "duration": 0.013729,
     "end_time": "2025-04-06T05:31:48.213600",
     "exception": false,
     "start_time": "2025-04-06T05:31:48.199871",
     "status": "completed"
    },
    "tags": []
   },
   "source": [
    "#### Enum mode\n",
    "\n",
    "The models are trained to generate text, and while the Gemini 2.0 models are great at following instructions, other models can sometimes produce more text than you may wish for. In the preceding example, the model will output the label, but sometimes it can include a preceding \"Sentiment\" label, and without an output token limit, it may also add explanatory text afterwards. See [this prompt in AI Studio](https://aistudio.google.com/prompts/1gzKKgDHwkAvexG5Up0LMtl1-6jKMKe4g) for an example.\n",
    "\n",
    "The Gemini API has an [Enum mode](https://github.com/google-gemini/cookbook/blob/main/quickstarts/Enum.ipynb) feature that allows you to constrain the output to a fixed set of values."
   ]
  },
  {
   "cell_type": "code",
   "execution_count": 19,
   "id": "aa84d12b",
   "metadata": {
    "execution": {
     "iopub.execute_input": "2025-04-06T05:31:48.244924Z",
     "iopub.status.busy": "2025-04-06T05:31:48.244557Z",
     "iopub.status.idle": "2025-04-06T05:31:48.653494Z",
     "shell.execute_reply": "2025-04-06T05:31:48.652300Z"
    },
    "id": "ad118a56c598",
    "papermill": {
     "duration": 0.427367,
     "end_time": "2025-04-06T05:31:48.655980",
     "exception": false,
     "start_time": "2025-04-06T05:31:48.228613",
     "status": "completed"
    },
    "tags": []
   },
   "outputs": [
    {
     "name": "stdout",
     "output_type": "stream",
     "text": [
      "positive\n"
     ]
    }
   ],
   "source": [
    "import enum\n",
    "\n",
    "class Sentiment(enum.Enum):\n",
    "    POSITIVE = \"positive\"\n",
    "    NEUTRAL = \"neutral\"\n",
    "    NEGATIVE = \"negative\"\n",
    "\n",
    "\n",
    "response = client.models.generate_content(\n",
    "    model='gemini-2.0-flash',\n",
    "    config=types.GenerateContentConfig(\n",
    "        response_mime_type=\"text/x.enum\",\n",
    "        response_schema=Sentiment\n",
    "    ),\n",
    "    contents=zero_shot_prompt)\n",
    "\n",
    "print(response.text)"
   ]
  },
  {
   "cell_type": "markdown",
   "id": "9e58a6e9",
   "metadata": {
    "papermill": {
     "duration": 0.013852,
     "end_time": "2025-04-06T05:31:48.684066",
     "exception": false,
     "start_time": "2025-04-06T05:31:48.670214",
     "status": "completed"
    },
    "tags": []
   },
   "source": [
    "When using constrained output like an enum, the Python SDK will attempt to convert the model's text response into a Python object automatically. It's stored in the `response.parsed` field."
   ]
  },
  {
   "cell_type": "code",
   "execution_count": 20,
   "id": "2a9d8005",
   "metadata": {
    "execution": {
     "iopub.execute_input": "2025-04-06T05:31:48.713927Z",
     "iopub.status.busy": "2025-04-06T05:31:48.713576Z",
     "iopub.status.idle": "2025-04-06T05:31:48.718935Z",
     "shell.execute_reply": "2025-04-06T05:31:48.717707Z"
    },
    "papermill": {
     "duration": 0.02319,
     "end_time": "2025-04-06T05:31:48.721467",
     "exception": false,
     "start_time": "2025-04-06T05:31:48.698277",
     "status": "completed"
    },
    "tags": []
   },
   "outputs": [
    {
     "name": "stdout",
     "output_type": "stream",
     "text": [
      "Sentiment.POSITIVE\n",
      "<enum 'Sentiment'>\n"
     ]
    }
   ],
   "source": [
    "enum_response = response.parsed\n",
    "print(enum_response)\n",
    "print(type(enum_response))"
   ]
  },
  {
   "cell_type": "markdown",
   "id": "eb6e3b8d",
   "metadata": {
    "id": "0udiSwNbv45W",
    "papermill": {
     "duration": 0.013646,
     "end_time": "2025-04-06T05:31:48.749297",
     "exception": false,
     "start_time": "2025-04-06T05:31:48.735651",
     "status": "completed"
    },
    "tags": []
   },
   "source": [
    "### One-shot and few-shot\n",
    "\n",
    "Providing an example of the expected response is known as a \"one-shot\" prompt. When you provide multiple examples, it is a \"few-shot\" prompt.\n",
    "\n",
    "<table align=left>\n",
    "  <td>\n",
    "    <a target=\"_blank\" href=\"https://aistudio.google.com/prompts/1jjWkjUSoMXmLvMJ7IzADr_GxHPJVV2bg\"><img src=\"https://ai.google.dev/site-assets/images/marketing/home/icon-ais.png\" style=\"height: 24px\" height=24/> Open in AI Studio</a>\n",
    "  </td>\n",
    "</table>\n"
   ]
  },
  {
   "cell_type": "code",
   "execution_count": 21,
   "id": "416d54e9",
   "metadata": {
    "execution": {
     "iopub.execute_input": "2025-04-06T05:31:48.779205Z",
     "iopub.status.busy": "2025-04-06T05:31:48.778800Z",
     "iopub.status.idle": "2025-04-06T05:31:49.195612Z",
     "shell.execute_reply": "2025-04-06T05:31:49.194211Z"
    },
    "id": "hd4mVUukwOKZ",
    "papermill": {
     "duration": 0.434678,
     "end_time": "2025-04-06T05:31:49.197987",
     "exception": false,
     "start_time": "2025-04-06T05:31:48.763309",
     "status": "completed"
    },
    "tags": []
   },
   "outputs": [
    {
     "name": "stdout",
     "output_type": "stream",
     "text": [
      "```json\n",
      "{\n",
      "\"size\": \"large\",\n",
      "\"type\": \"normal\",\n",
      "\"ingredients\": [\"cheese\", \"pineapple\"]\n",
      "}\n",
      "```\n",
      "\n"
     ]
    }
   ],
   "source": [
    "few_shot_prompt = \"\"\"Parse a customer's pizza order into valid JSON:\n",
    "\n",
    "EXAMPLE:\n",
    "I want a small pizza with cheese, tomato sauce, and pepperoni.\n",
    "JSON Response:\n",
    "```\n",
    "{\n",
    "\"size\": \"small\",\n",
    "\"type\": \"normal\",\n",
    "\"ingredients\": [\"cheese\", \"tomato sauce\", \"pepperoni\"]\n",
    "}\n",
    "```\n",
    "\n",
    "EXAMPLE:\n",
    "Can I get a large pizza with tomato sauce, basil and mozzarella\n",
    "JSON Response:\n",
    "```\n",
    "{\n",
    "\"size\": \"large\",\n",
    "\"type\": \"normal\",\n",
    "\"ingredients\": [\"tomato sauce\", \"basil\", \"mozzarella\"]\n",
    "}\n",
    "```\n",
    "\n",
    "ORDER:\n",
    "\"\"\"\n",
    "\n",
    "customer_order = \"Give me a large with cheese & pineapple\"\n",
    "\n",
    "response = client.models.generate_content(\n",
    "    model='gemini-2.0-flash',\n",
    "    config=types.GenerateContentConfig(\n",
    "        temperature=0.1,\n",
    "        top_p=1,\n",
    "        max_output_tokens=250,\n",
    "    ),\n",
    "    contents=[few_shot_prompt, customer_order])\n",
    "\n",
    "print(response.text)"
   ]
  },
  {
   "cell_type": "markdown",
   "id": "2c678409",
   "metadata": {
    "id": "021293096f08",
    "papermill": {
     "duration": 0.013773,
     "end_time": "2025-04-06T05:31:49.226033",
     "exception": false,
     "start_time": "2025-04-06T05:31:49.212260",
     "status": "completed"
    },
    "tags": []
   },
   "source": [
    "#### JSON mode\n",
    "\n",
    "To provide control over the schema, and to ensure that you only receive JSON (with no other text or markdown), you can use the Gemini API's [JSON mode](https://github.com/google-gemini/cookbook/blob/main/quickstarts/JSON_mode.ipynb). This forces the model to constrain decoding, such that token selection is guided by the supplied schema."
   ]
  },
  {
   "cell_type": "code",
   "execution_count": 22,
   "id": "bc96de8d",
   "metadata": {
    "execution": {
     "iopub.execute_input": "2025-04-06T05:31:49.257231Z",
     "iopub.status.busy": "2025-04-06T05:31:49.256872Z",
     "iopub.status.idle": "2025-04-06T05:31:49.737902Z",
     "shell.execute_reply": "2025-04-06T05:31:49.736801Z"
    },
    "id": "50fbf0260912",
    "papermill": {
     "duration": 0.499005,
     "end_time": "2025-04-06T05:31:49.740179",
     "exception": false,
     "start_time": "2025-04-06T05:31:49.241174",
     "status": "completed"
    },
    "tags": []
   },
   "outputs": [
    {
     "name": "stdout",
     "output_type": "stream",
     "text": [
      "{\n",
      "  \"size\": \"large\",\n",
      "  \"ingredients\": [\"apple\", \"chocolate\"],\n",
      "  \"type\": \"dessert\"\n",
      "}\n"
     ]
    }
   ],
   "source": [
    "import typing_extensions as typing\n",
    "\n",
    "class PizzaOrder(typing.TypedDict):\n",
    "    size: str\n",
    "    ingredients: list[str]\n",
    "    type: str\n",
    "\n",
    "\n",
    "response = client.models.generate_content(\n",
    "    model='gemini-2.0-flash',\n",
    "    config=types.GenerateContentConfig(\n",
    "        temperature=0.1,\n",
    "        response_mime_type=\"application/json\",\n",
    "        response_schema=PizzaOrder,\n",
    "    ),\n",
    "    contents=\"Can I have a large dessert pizza with apple and chocolate\")\n",
    "\n",
    "print(response.text)"
   ]
  },
  {
   "cell_type": "markdown",
   "id": "ac8bb948",
   "metadata": {
    "id": "4a93e338e57c",
    "papermill": {
     "duration": 0.014031,
     "end_time": "2025-04-06T05:31:49.768606",
     "exception": false,
     "start_time": "2025-04-06T05:31:49.754575",
     "status": "completed"
    },
    "tags": []
   },
   "source": [
    "### Chain of Thought (CoT)\n",
    "\n",
    "Direct prompting on LLMs can return answers quickly and (in terms of output token usage) efficiently, but they can be prone to hallucination. The answer may \"look\" correct (in terms of language and syntax) but is incorrect in terms of factuality and reasoning.\n",
    "\n",
    "Chain-of-Thought prompting is a technique where you instruct the model to output intermediate reasoning steps, and it typically gets better results, especially when combined with few-shot examples. It is worth noting that this technique doesn't completely eliminate hallucinations, and that it tends to cost more to run, due to the increased token count.\n",
    "\n",
    "Models like the Gemini family are trained to be \"chatty\" or \"thoughtful\" and will provide reasoning steps without prompting, so for this simple example you can ask the model to be more direct in the prompt to force a non-reasoning response. Try re-running this step if the model gets lucky and gets the answer correct on the first try."
   ]
  },
  {
   "cell_type": "code",
   "execution_count": 23,
   "id": "ecebb0b4",
   "metadata": {
    "execution": {
     "iopub.execute_input": "2025-04-06T05:31:49.798875Z",
     "iopub.status.busy": "2025-04-06T05:31:49.798478Z",
     "iopub.status.idle": "2025-04-06T05:31:50.106067Z",
     "shell.execute_reply": "2025-04-06T05:31:50.104747Z"
    },
    "id": "5715555db1c1",
    "papermill": {
     "duration": 0.325543,
     "end_time": "2025-04-06T05:31:50.108383",
     "exception": false,
     "start_time": "2025-04-06T05:31:49.782840",
     "status": "completed"
    },
    "tags": []
   },
   "outputs": [
    {
     "name": "stdout",
     "output_type": "stream",
     "text": [
      "52\n",
      "\n"
     ]
    }
   ],
   "source": [
    "prompt = \"\"\"When I was 4 years old, my partner was 3 times my age. Now, I\n",
    "am 20 years old. How old is my partner? Return the answer directly.\"\"\"\n",
    "\n",
    "response = client.models.generate_content(\n",
    "    model='gemini-2.0-flash',\n",
    "    contents=prompt)\n",
    "\n",
    "print(response.text)"
   ]
  },
  {
   "cell_type": "markdown",
   "id": "06eca22d",
   "metadata": {
    "id": "e12b19677bfd",
    "papermill": {
     "duration": 0.014007,
     "end_time": "2025-04-06T05:31:50.136795",
     "exception": false,
     "start_time": "2025-04-06T05:31:50.122788",
     "status": "completed"
    },
    "tags": []
   },
   "source": [
    "Now try the same approach, but indicate to the model that it should \"think step by step\"."
   ]
  },
  {
   "cell_type": "code",
   "execution_count": 24,
   "id": "78c91210",
   "metadata": {
    "execution": {
     "iopub.execute_input": "2025-04-06T05:31:50.167044Z",
     "iopub.status.busy": "2025-04-06T05:31:50.166622Z",
     "iopub.status.idle": "2025-04-06T05:31:51.123399Z",
     "shell.execute_reply": "2025-04-06T05:31:51.122238Z"
    },
    "id": "ffd7536a481f",
    "papermill": {
     "duration": 0.974659,
     "end_time": "2025-04-06T05:31:51.125661",
     "exception": false,
     "start_time": "2025-04-06T05:31:50.151002",
     "status": "completed"
    },
    "tags": []
   },
   "outputs": [
    {
     "data": {
      "text/markdown": [
       "Here's how to solve the problem:\n",
       "\n",
       "1. **Find the age difference:** When you were 4, your partner was 3 times your age, meaning they were 4 * 3 = 12 years old.\n",
       "\n",
       "2. **Calculate the age gap:** The age difference between you and your partner is 12 - 4 = 8 years.\n",
       "\n",
       "3. **Determine partner's current age:** Since the age difference remains constant, your partner is always 8 years older than you. Now that you are 20, your partner is 20 + 8 = 28 years old.\n",
       "\n",
       "**Therefore, your partner is currently 28 years old.**\n"
      ],
      "text/plain": [
       "<IPython.core.display.Markdown object>"
      ]
     },
     "execution_count": 24,
     "metadata": {},
     "output_type": "execute_result"
    }
   ],
   "source": [
    "prompt = \"\"\"When I was 4 years old, my partner was 3 times my age. Now,\n",
    "I am 20 years old. How old is my partner? Let's think step by step.\"\"\"\n",
    "\n",
    "response = client.models.generate_content(\n",
    "    model='gemini-2.0-flash',\n",
    "    contents=prompt)\n",
    "\n",
    "Markdown(response.text)"
   ]
  },
  {
   "cell_type": "markdown",
   "id": "778e1582",
   "metadata": {
    "id": "oiLgBQJj0V53",
    "papermill": {
     "duration": 0.014078,
     "end_time": "2025-04-06T05:31:51.154225",
     "exception": false,
     "start_time": "2025-04-06T05:31:51.140147",
     "status": "completed"
    },
    "tags": []
   },
   "source": [
    "### ReAct: Reason and act\n",
    "\n",
    "In this example you will run a ReAct prompt directly in the Gemini API and perform the searching steps yourself. As this prompt follows a well-defined structure, there are frameworks available that wrap the prompt into easier-to-use APIs that make tool calls automatically, such as the LangChain example from the \"Prompting\" whitepaper.\n",
    "\n",
    "To try this out with the Wikipedia search engine, check out the [Searching Wikipedia with ReAct](https://github.com/google-gemini/cookbook/blob/main/examples/Search_Wikipedia_using_ReAct.ipynb) cookbook example.\n",
    "\n",
    "\n",
    "> Note: The prompt and in-context examples used here are from [https://github.com/ysymyth/ReAct](https://github.com/ysymyth/ReAct) which is published under an [MIT license](https://opensource.org/licenses/MIT), Copyright (c) 2023 Shunyu Yao.\n",
    "\n",
    "<table align=left>\n",
    "  <td>\n",
    "    <a target=\"_blank\" href=\"https://aistudio.google.com/prompts/18oo63Lwosd-bQ6Ay51uGogB3Wk3H8XMO\"><img src=\"https://ai.google.dev/site-assets/images/marketing/home/icon-ais.png\" style=\"height: 24px\" height=24/> Open in AI Studio</a>\n",
    "  </td>\n",
    "</table>\n"
   ]
  },
  {
   "cell_type": "code",
   "execution_count": 25,
   "id": "fd89e5b4",
   "metadata": {
    "execution": {
     "iopub.execute_input": "2025-04-06T05:31:51.184778Z",
     "iopub.status.busy": "2025-04-06T05:31:51.184365Z",
     "iopub.status.idle": "2025-04-06T05:31:51.191023Z",
     "shell.execute_reply": "2025-04-06T05:31:51.190025Z"
    },
    "id": "cBgyNJ5z0VSs",
    "papermill": {
     "duration": 0.024673,
     "end_time": "2025-04-06T05:31:51.193241",
     "exception": false,
     "start_time": "2025-04-06T05:31:51.168568",
     "status": "completed"
    },
    "tags": []
   },
   "outputs": [],
   "source": [
    "model_instructions = \"\"\"\n",
    "Solve a question answering task with interleaving Thought, Action, Observation steps. Thought can reason about the current situation,\n",
    "Observation is understanding relevant information from an Action's output and Action can be one of three types:\n",
    " (1) <search>entity</search>, which searches the exact entity on Wikipedia and returns the first paragraph if it exists. If not, it\n",
    "     will return some similar entities to search and you can try to search the information from those topics.\n",
    " (2) <lookup>keyword</lookup>, which returns the next sentence containing keyword in the current context. This only does exact matches,\n",
    "     so keep your searches short.\n",
    " (3) <finish>answer</finish>, which returns the answer and finishes the task.\n",
    "\"\"\"\n",
    "\n",
    "example1 = \"\"\"Question\n",
    "Musician and satirist Allie Goertz wrote a song about the \"The Simpsons\" character Milhouse, who Matt Groening named after who?\n",
    "\n",
    "Thought 1\n",
    "The question simplifies to \"The Simpsons\" character Milhouse is named after who. I only need to search Milhouse and find who it is named after.\n",
    "\n",
    "Action 1\n",
    "<search>Milhouse</search>\n",
    "\n",
    "Observation 1\n",
    "Milhouse Mussolini Van Houten is a recurring character in the Fox animated television series The Simpsons voiced by Pamela Hayden and created by Matt Groening.\n",
    "\n",
    "Thought 2\n",
    "The paragraph does not tell who Milhouse is named after, maybe I can look up \"named after\".\n",
    "\n",
    "Action 2\n",
    "<lookup>named after</lookup>\n",
    "\n",
    "Observation 2\n",
    "Milhouse was named after U.S. president Richard Nixon, whose middle name was Milhous.\n",
    "\n",
    "Thought 3\n",
    "Milhouse was named after U.S. president Richard Nixon, so the answer is Richard Nixon.\n",
    "\n",
    "Action 3\n",
    "<finish>Richard Nixon</finish>\n",
    "\"\"\"\n",
    "\n",
    "example2 = \"\"\"Question\n",
    "What is the elevation range for the area that the eastern sector of the Colorado orogeny extends into?\n",
    "\n",
    "Thought 1\n",
    "I need to search Colorado orogeny, find the area that the eastern sector of the Colorado orogeny extends into, then find the elevation range of the area.\n",
    "\n",
    "Action 1\n",
    "<search>Colorado orogeny</search>\n",
    "\n",
    "Observation 1\n",
    "The Colorado orogeny was an episode of mountain building (an orogeny) in Colorado and surrounding areas.\n",
    "\n",
    "Thought 2\n",
    "It does not mention the eastern sector. So I need to look up eastern sector.\n",
    "\n",
    "Action 2\n",
    "<lookup>eastern sector</lookup>\n",
    "\n",
    "Observation 2\n",
    "The eastern sector extends into the High Plains and is called the Central Plains orogeny.\n",
    "\n",
    "Thought 3\n",
    "The eastern sector of Colorado orogeny extends into the High Plains. So I need to search High Plains and find its elevation range.\n",
    "\n",
    "Action 3\n",
    "<search>High Plains</search>\n",
    "\n",
    "Observation 3\n",
    "High Plains refers to one of two distinct land regions\n",
    "\n",
    "Thought 4\n",
    "I need to instead search High Plains (United States).\n",
    "\n",
    "Action 4\n",
    "<search>High Plains (United States)</search>\n",
    "\n",
    "Observation 4\n",
    "The High Plains are a subregion of the Great Plains. From east to west, the High Plains rise in elevation from around 1,800 to 7,000 ft (550 to 2,130m).\n",
    "\n",
    "Thought 5\n",
    "High Plains rise in elevation from around 1,800 to 7,000 ft, so the answer is 1,800 to 7,000 ft.\n",
    "\n",
    "Action 5\n",
    "<finish>1,800 to 7,000 ft</finish>\n",
    "\"\"\"\n",
    "\n",
    "# Come up with more examples yourself, or take a look through https://github.com/ysymyth/ReAct/"
   ]
  },
  {
   "cell_type": "markdown",
   "id": "f72c6d7a",
   "metadata": {
    "id": "C3wbfstjTgey",
    "papermill": {
     "duration": 0.014296,
     "end_time": "2025-04-06T05:31:51.222069",
     "exception": false,
     "start_time": "2025-04-06T05:31:51.207773",
     "status": "completed"
    },
    "tags": []
   },
   "source": [
    "To capture a single step at a time, while ignoring any hallucinated Observation steps, you will use `stop_sequences` to end the generation process. The steps are `Thought`, `Action`, `Observation`, in that order."
   ]
  },
  {
   "cell_type": "code",
   "execution_count": 26,
   "id": "ed90e57e",
   "metadata": {
    "execution": {
     "iopub.execute_input": "2025-04-06T05:31:51.253880Z",
     "iopub.status.busy": "2025-04-06T05:31:51.253495Z",
     "iopub.status.idle": "2025-04-06T05:31:51.760876Z",
     "shell.execute_reply": "2025-04-06T05:31:51.759550Z"
    },
    "id": "8mxrXRkRTdXm",
    "papermill": {
     "duration": 0.526675,
     "end_time": "2025-04-06T05:31:51.763481",
     "exception": false,
     "start_time": "2025-04-06T05:31:51.236806",
     "status": "completed"
    },
    "tags": []
   },
   "outputs": [
    {
     "name": "stdout",
     "output_type": "stream",
     "text": [
      "Thought 1\n",
      "I need to find the transformers NLP paper and then find the list of authors and then find the youngest author.\n",
      "\n",
      "Action 1\n",
      "<search>transformers NLP paper</search>\n",
      "\n"
     ]
    }
   ],
   "source": [
    "question = \"\"\"Question\n",
    "Who was the youngest author listed on the transformers NLP paper?\n",
    "\"\"\"\n",
    "\n",
    "# You will perform the Action; so generate up to, but not including, the Observation.\n",
    "react_config = types.GenerateContentConfig(\n",
    "    stop_sequences=[\"\\nObservation\"],\n",
    "    system_instruction=model_instructions + example1 + example2,\n",
    ")\n",
    "\n",
    "# Create a chat that has the model instructions and examples pre-seeded.\n",
    "react_chat = client.chats.create(\n",
    "    model='gemini-2.0-flash',\n",
    "    config=react_config,\n",
    ")\n",
    "\n",
    "resp = react_chat.send_message(question)\n",
    "print(resp.text)"
   ]
  },
  {
   "cell_type": "markdown",
   "id": "87bbd54f",
   "metadata": {
    "id": "aW2PIdLbVv3l",
    "papermill": {
     "duration": 0.014695,
     "end_time": "2025-04-06T05:31:51.792863",
     "exception": false,
     "start_time": "2025-04-06T05:31:51.778168",
     "status": "completed"
    },
    "tags": []
   },
   "source": [
    "Now you can perform this research yourself and supply it back to the model."
   ]
  },
  {
   "cell_type": "code",
   "execution_count": 27,
   "id": "cb529d15",
   "metadata": {
    "execution": {
     "iopub.execute_input": "2025-04-06T05:31:51.824492Z",
     "iopub.status.busy": "2025-04-06T05:31:51.824047Z",
     "iopub.status.idle": "2025-04-06T05:31:52.524520Z",
     "shell.execute_reply": "2025-04-06T05:31:52.523257Z"
    },
    "id": "mLMc0DZaV9g2",
    "papermill": {
     "duration": 0.718582,
     "end_time": "2025-04-06T05:31:52.526796",
     "exception": false,
     "start_time": "2025-04-06T05:31:51.808214",
     "status": "completed"
    },
    "tags": []
   },
   "outputs": [
    {
     "name": "stdout",
     "output_type": "stream",
     "text": [
      "Thought 2\n",
      "Now I have the names of the authors: Ashish Vaswani, Noam Shazeer, Niki Parmar, Jakob Uszkoreit, Llion Jones, Aidan N. Gomez, Lukasz Kaiser, Illia Polosukhin. I need to find their ages and then find the youngest author. I can't look up their ages directly, so I will search for them one by one.\n",
      "\n",
      "Action 2\n",
      "<search>Ashish Vaswani</search>\n",
      "\n"
     ]
    }
   ],
   "source": [
    "observation = \"\"\"Observation 1\n",
    "[1706.03762] Attention Is All You Need\n",
    "Ashish Vaswani, Noam Shazeer, Niki Parmar, Jakob Uszkoreit, Llion Jones, Aidan N. Gomez, Lukasz Kaiser, Illia Polosukhin\n",
    "We propose a new simple network architecture, the Transformer, based solely on attention mechanisms, dispensing with recurrence and convolutions entirely.\n",
    "\"\"\"\n",
    "resp = react_chat.send_message(observation)\n",
    "print(resp.text)"
   ]
  },
  {
   "cell_type": "markdown",
   "id": "4dcb7e7f",
   "metadata": {
    "id": "bo0tzf4nX6dA",
    "papermill": {
     "duration": 0.01435,
     "end_time": "2025-04-06T05:31:52.555773",
     "exception": false,
     "start_time": "2025-04-06T05:31:52.541423",
     "status": "completed"
    },
    "tags": []
   },
   "source": [
    "This process repeats until the `<finish>` action is reached. You can continue running this yourself if you like, or try the [Wikipedia example](https://github.com/google-gemini/cookbook/blob/main/examples/Search_Wikipedia_using_ReAct.ipynb) to see a fully automated ReAct system at work."
   ]
  },
  {
   "cell_type": "markdown",
   "id": "a00286db",
   "metadata": {
    "papermill": {
     "duration": 0.014353,
     "end_time": "2025-04-06T05:31:52.584784",
     "exception": false,
     "start_time": "2025-04-06T05:31:52.570431",
     "status": "completed"
    },
    "tags": []
   },
   "source": [
    "## Thinking mode\n",
    "\n",
    "The experiemental Gemini Flash 2.0 \"Thinking\" model has been trained to generate the \"thinking process\" the model goes through as part of its response. As a result, the Flash Thinking model is capable of stronger reasoning capabilities in its responses.\n",
    "\n",
    "Using a \"thinking mode\" model can provide you with high-quality responses without needing specialised prompting like the previous approaches. One reason this technique is effective is that you induce the model to generate relevant information (\"brainstorming\", or \"thoughts\") that is then used as part of the context in which the final response is generated.\n",
    "\n",
    "Note that when you use the API, you get the final response from the model, but the thoughts are not captured. To see the intermediate thoughts, try out [the thinking mode model in AI Studio](https://aistudio.google.com/prompts/new_chat?model=gemini-2.0-flash-thinking-exp-01-21).\n",
    "\n",
    "<table align=left>\n",
    "  <td>\n",
    "    <a target=\"_blank\" href=\"https://aistudio.google.com/prompts/1Z991SV7lZZZqioOiqIUPv9a9ix-ws4zk\"><img src=\"https://ai.google.dev/site-assets/images/marketing/home/icon-ais.png\" style=\"height: 24px\" height=24/> Open in AI Studio</a>\n",
    "  </td>\n",
    "</table>"
   ]
  },
  {
   "cell_type": "code",
   "execution_count": 28,
   "id": "e1c8f4e5",
   "metadata": {
    "execution": {
     "iopub.execute_input": "2025-04-06T05:31:52.615830Z",
     "iopub.status.busy": "2025-04-06T05:31:52.615429Z",
     "iopub.status.idle": "2025-04-06T05:32:00.354455Z",
     "shell.execute_reply": "2025-04-06T05:32:00.353134Z"
    },
    "papermill": {
     "duration": 7.757153,
     "end_time": "2025-04-06T05:32:00.356712",
     "exception": false,
     "start_time": "2025-04-06T05:31:52.599559",
     "status": "completed"
    },
    "tags": []
   },
   "outputs": [
    {
     "data": {
      "text/markdown": [
       "Based on readily available information and common knowledge within the NLP community, **Aidan N. Gomez** is often considered the youngest author among the authors of the \"Attention is All You Need\" paper, which introduced the Transformer architecture.\n",
       "\n",
       "He was a PhD student at the University of Toronto at the time of publication, while the other authors were generally more senior researchers at Google Brain.\n",
       "\n",
       "It's important to note that \"youngest\" is based on their career stage at the time of publication, and while we don't have exact birthdates for all authors publicly available to definitively confirm the absolute youngest in terms of age, Aidan N. Gomez being a PhD student is a strong indicator of him being the youngest or among the youngest authors on that seminal paper."
      ],
      "text/plain": [
       "<IPython.core.display.Markdown object>"
      ]
     },
     "execution_count": 28,
     "metadata": {},
     "output_type": "execute_result"
    }
   ],
   "source": [
    "import io\n",
    "from IPython.display import Markdown, clear_output\n",
    "\n",
    "\n",
    "response = client.models.generate_content_stream(\n",
    "    model='gemini-2.0-flash-thinking-exp',\n",
    "    contents='Who was the youngest author listed on the transformers NLP paper?',\n",
    ")\n",
    "\n",
    "buf = io.StringIO()\n",
    "for chunk in response:\n",
    "    buf.write(chunk.text)\n",
    "    # Display the response as it is streamed\n",
    "    print(chunk.text, end='')\n",
    "\n",
    "# And then render the finished response as formatted markdown.\n",
    "clear_output()\n",
    "Markdown(buf.getvalue())"
   ]
  },
  {
   "cell_type": "markdown",
   "id": "093e871a",
   "metadata": {
    "id": "jPiZ_eIIaVPt",
    "papermill": {
     "duration": 0.014749,
     "end_time": "2025-04-06T05:32:00.386555",
     "exception": false,
     "start_time": "2025-04-06T05:32:00.371806",
     "status": "completed"
    },
    "tags": []
   },
   "source": [
    "## Code prompting"
   ]
  },
  {
   "cell_type": "markdown",
   "id": "9ce66882",
   "metadata": {
    "id": "ZinKamwXeR6C",
    "papermill": {
     "duration": 0.014693,
     "end_time": "2025-04-06T05:32:00.416180",
     "exception": false,
     "start_time": "2025-04-06T05:32:00.401487",
     "status": "completed"
    },
    "tags": []
   },
   "source": [
    "### Generating code\n",
    "\n",
    "The Gemini family of models can be used to generate code, configuration and scripts. Generating code can be helpful when learning to code, learning a new language or for rapidly generating a first draft.\n",
    "\n",
    "It's important to be aware that since LLMs can make mistakes, and can repeat training data, it's essential to read and test your code first, and comply with any relevant licenses.\n",
    "\n",
    "<table align=left>\n",
    "  <td>\n",
    "    <a target=\"_blank\" href=\"https://aistudio.google.com/prompts/1YX71JGtzDjXQkgdes8bP6i3oH5lCRKxv\"><img src=\"https://ai.google.dev/site-assets/images/marketing/home/icon-ais.png\" style=\"height: 24px\" height=24/> Open in AI Studio</a>\n",
    "  </td>\n",
    "</table>"
   ]
  },
  {
   "cell_type": "code",
   "execution_count": 29,
   "id": "77fa2a73",
   "metadata": {
    "execution": {
     "iopub.execute_input": "2025-04-06T05:32:00.449055Z",
     "iopub.status.busy": "2025-04-06T05:32:00.448661Z",
     "iopub.status.idle": "2025-04-06T05:32:00.960158Z",
     "shell.execute_reply": "2025-04-06T05:32:00.959074Z"
    },
    "id": "fOQP9pqmeUO1",
    "papermill": {
     "duration": 0.530957,
     "end_time": "2025-04-06T05:32:00.962694",
     "exception": false,
     "start_time": "2025-04-06T05:32:00.431737",
     "status": "completed"
    },
    "tags": []
   },
   "outputs": [
    {
     "data": {
      "text/markdown": [
       "```python\n",
       "def factorial(n):\n",
       "  \"\"\"\n",
       "  Calculate the factorial of a number.\n",
       "  \"\"\"\n",
       "  if n == 0:\n",
       "    return 1\n",
       "  else:\n",
       "    return n * factorial(n-1)\n",
       "```"
      ],
      "text/plain": [
       "<IPython.core.display.Markdown object>"
      ]
     },
     "execution_count": 29,
     "metadata": {},
     "output_type": "execute_result"
    }
   ],
   "source": [
    "# The Gemini models love to talk, so it helps to specify they stick to the code if that\n",
    "# is all that you want.\n",
    "code_prompt = \"\"\"\n",
    "Write a Python function to calculate the factorial of a number. No explanation, provide only the code.\n",
    "\"\"\"\n",
    "\n",
    "response = client.models.generate_content(\n",
    "    model='gemini-2.0-flash',\n",
    "    config=types.GenerateContentConfig(\n",
    "        temperature=1,\n",
    "        top_p=1,\n",
    "        max_output_tokens=1024,\n",
    "    ),\n",
    "    contents=code_prompt)\n",
    "\n",
    "Markdown(response.text)"
   ]
  },
  {
   "cell_type": "markdown",
   "id": "ddca6ca0",
   "metadata": {
    "id": "wlBMWSFhgVRQ",
    "papermill": {
     "duration": 0.01524,
     "end_time": "2025-04-06T05:32:00.993086",
     "exception": false,
     "start_time": "2025-04-06T05:32:00.977846",
     "status": "completed"
    },
    "tags": []
   },
   "source": [
    "### Code execution\n",
    "\n",
    "The Gemini API can automatically run generated code too, and will return the output.\n",
    "\n",
    "<table align=left>\n",
    "  <td>\n",
    "    <a target=\"_blank\" href=\"https://aistudio.google.com/prompts/11veFr_VYEwBWcLkhNLr-maCG0G8sS_7Z\"><img src=\"https://ai.google.dev/site-assets/images/marketing/home/icon-ais.png\" style=\"height: 24px\" height=24/> Open in AI Studio</a>\n",
    "  </td>\n",
    "</table>"
   ]
  },
  {
   "cell_type": "code",
   "execution_count": 30,
   "id": "dbf7c15d",
   "metadata": {
    "execution": {
     "iopub.execute_input": "2025-04-06T05:32:01.026663Z",
     "iopub.status.busy": "2025-04-06T05:32:01.026251Z",
     "iopub.status.idle": "2025-04-06T05:32:02.898973Z",
     "shell.execute_reply": "2025-04-06T05:32:02.897772Z"
    },
    "id": "jT3OfWYfhjRL",
    "papermill": {
     "duration": 1.891934,
     "end_time": "2025-04-06T05:32:02.901440",
     "exception": false,
     "start_time": "2025-04-06T05:32:01.009506",
     "status": "completed"
    },
    "tags": []
   },
   "outputs": [
    {
     "name": "stdout",
     "output_type": "stream",
     "text": [
      "{'text': 'Okay, I can do that. First, I need to identify the first 14 odd '\n",
      "         'prime numbers. Remember that a prime number is a number greater than '\n",
      "         '1 that has only two divisors: 1 and itself. Also, note that 2 is the '\n",
      "         'only even prime number, so all other prime numbers are odd.\\n'\n",
      "         '\\n'\n",
      "         'The first few prime numbers are 2, 3, 5, 7, 11, 13, 17, 19, 23, 29, '\n",
      "         '31, 37, 41, 43, 47, 53...\\n'\n",
      "         'The first 14 odd prime numbers are therefore 3, 5, 7, 11, 13, 17, '\n",
      "         '19, 23, 29, 31, 37, 41, 43, and 47.\\n'\n",
      "         '\\n'\n",
      "         'Now I will calculate their sum using python:\\n'\n",
      "         '\\n'}\n",
      "-----\n",
      "{'executable_code': {'code': 'primes = [3, 5, 7, 11, 13, 17, 19, 23, 29, 31, '\n",
      "                             '37, 41, 43, 47]\\n'\n",
      "                             'sum_of_primes = sum(primes)\\n'\n",
      "                             \"print(f'{sum_of_primes=}')\\n\",\n",
      "                     'language': 'PYTHON'}}\n",
      "-----\n",
      "{'code_execution_result': {'outcome': 'OUTCOME_OK',\n",
      "                           'output': 'sum_of_primes=326\\n'}}\n",
      "-----\n",
      "{'text': 'The sum of the first 14 odd prime numbers is 326.\\n'}\n",
      "-----\n"
     ]
    }
   ],
   "source": [
    "from pprint import pprint\n",
    "\n",
    "config = types.GenerateContentConfig(\n",
    "    tools=[types.Tool(code_execution=types.ToolCodeExecution())],\n",
    ")\n",
    "\n",
    "code_exec_prompt = \"\"\"\n",
    "Generate the first 14 odd prime numbers, then calculate their sum.\n",
    "\"\"\"\n",
    "\n",
    "response = client.models.generate_content(\n",
    "    model='gemini-2.0-flash',\n",
    "    config=config,\n",
    "    contents=code_exec_prompt)\n",
    "\n",
    "for part in response.candidates[0].content.parts:\n",
    "  pprint(part.to_json_dict())\n",
    "  print(\"-----\")"
   ]
  },
  {
   "cell_type": "markdown",
   "id": "0062f57a",
   "metadata": {
    "id": "ZspT1GSkjG6d",
    "papermill": {
     "duration": 0.014776,
     "end_time": "2025-04-06T05:32:02.931375",
     "exception": false,
     "start_time": "2025-04-06T05:32:02.916599",
     "status": "completed"
    },
    "tags": []
   },
   "source": [
    "This response contains multiple parts, including an opening and closing text part that represent regular responses, an `executable_code` part that represents generated code and a `code_execution_result` part that represents the results from running the generated code.\n",
    "\n",
    "You can explore them individually."
   ]
  },
  {
   "cell_type": "code",
   "execution_count": 31,
   "id": "e05d442c",
   "metadata": {
    "execution": {
     "iopub.execute_input": "2025-04-06T05:32:02.963248Z",
     "iopub.status.busy": "2025-04-06T05:32:02.962859Z",
     "iopub.status.idle": "2025-04-06T05:32:02.978205Z",
     "shell.execute_reply": "2025-04-06T05:32:02.977050Z"
    },
    "papermill": {
     "duration": 0.034049,
     "end_time": "2025-04-06T05:32:02.980526",
     "exception": false,
     "start_time": "2025-04-06T05:32:02.946477",
     "status": "completed"
    },
    "tags": []
   },
   "outputs": [
    {
     "data": {
      "text/markdown": [
       "Okay, I can do that. First, I need to identify the first 14 odd prime numbers. Remember that a prime number is a number greater than 1 that has only two divisors: 1 and itself. Also, note that 2 is the only even prime number, so all other prime numbers are odd.\n",
       "\n",
       "The first few prime numbers are 2, 3, 5, 7, 11, 13, 17, 19, 23, 29, 31, 37, 41, 43, 47, 53...\n",
       "The first 14 odd prime numbers are therefore 3, 5, 7, 11, 13, 17, 19, 23, 29, 31, 37, 41, 43, and 47.\n",
       "\n",
       "Now I will calculate their sum using python:\n",
       "\n"
      ],
      "text/plain": [
       "<IPython.core.display.Markdown object>"
      ]
     },
     "metadata": {},
     "output_type": "display_data"
    },
    {
     "data": {
      "text/markdown": [
       "```python\n",
       "primes = [3, 5, 7, 11, 13, 17, 19, 23, 29, 31, 37, 41, 43, 47]\n",
       "sum_of_primes = sum(primes)\n",
       "print(f'{sum_of_primes=}')\n",
       "\n",
       "```"
      ],
      "text/plain": [
       "<IPython.core.display.Markdown object>"
      ]
     },
     "metadata": {},
     "output_type": "display_data"
    },
    {
     "data": {
      "text/markdown": [
       "```\n",
       "sum_of_primes=326\n",
       "\n",
       "```"
      ],
      "text/plain": [
       "<IPython.core.display.Markdown object>"
      ]
     },
     "metadata": {},
     "output_type": "display_data"
    },
    {
     "data": {
      "text/markdown": [
       "The sum of the first 14 odd prime numbers is 326.\n"
      ],
      "text/plain": [
       "<IPython.core.display.Markdown object>"
      ]
     },
     "metadata": {},
     "output_type": "display_data"
    }
   ],
   "source": [
    "for part in response.candidates[0].content.parts:\n",
    "    if part.text:\n",
    "        display(Markdown(part.text))\n",
    "    elif part.executable_code:\n",
    "        display(Markdown(f'```python\\n{part.executable_code.code}\\n```'))\n",
    "    elif part.code_execution_result:\n",
    "        if part.code_execution_result.outcome != 'OUTCOME_OK':\n",
    "            display(Markdown(f'## Status {part.code_execution_result.outcome}'))\n",
    "\n",
    "        display(Markdown(f'```\\n{part.code_execution_result.output}\\n```'))"
   ]
  },
  {
   "cell_type": "markdown",
   "id": "d1651548",
   "metadata": {
    "id": "1gUX8QzCj4d5",
    "papermill": {
     "duration": 0.015141,
     "end_time": "2025-04-06T05:32:03.011239",
     "exception": false,
     "start_time": "2025-04-06T05:32:02.996098",
     "status": "completed"
    },
    "tags": []
   },
   "source": [
    "### Explaining code\n",
    "\n",
    "The Gemini family of models can explain code to you too. In this example, you pass a [bash script](https://github.com/magicmonty/bash-git-prompt) and ask some questions.\n",
    "\n",
    "<table align=left>\n",
    "  <td>\n",
    "    <a target=\"_blank\" href=\"https://aistudio.google.com/prompts/1N7LGzWzCYieyOf_7bAG4plrmkpDNmUyb\"><img src=\"https://ai.google.dev/site-assets/images/marketing/home/icon-ais.png\" style=\"height: 24px\" height=24/> Open in AI Studio</a>\n",
    "  </td>\n",
    "</table>"
   ]
  },
  {
   "cell_type": "code",
   "execution_count": 32,
   "id": "38cda677",
   "metadata": {
    "execution": {
     "iopub.execute_input": "2025-04-06T05:32:03.044850Z",
     "iopub.status.busy": "2025-04-06T05:32:03.044462Z",
     "iopub.status.idle": "2025-04-06T05:32:05.428037Z",
     "shell.execute_reply": "2025-04-06T05:32:05.426635Z"
    },
    "id": "7_jPMMoxkIEb",
    "papermill": {
     "duration": 2.403942,
     "end_time": "2025-04-06T05:32:05.431138",
     "exception": false,
     "start_time": "2025-04-06T05:32:03.027196",
     "status": "completed"
    },
    "tags": []
   },
   "outputs": [
    {
     "data": {
      "text/markdown": [
       "This file is a shell script (likely for Bash or Zsh) that customizes your command-line prompt to display information about the current Git repository.  In essence, it makes your prompt \"Git-aware\".\n",
       "\n",
       "Here's a breakdown:\n",
       "\n",
       "*   **What it does:** The script modifies your prompt (the text you see before you type a command in the terminal) to include details about the Git repository you're currently working in. This can include the branch name, the status of your working directory (e.g., whether there are uncommitted changes, staged files, or conflicts), and the relationship to remote branches (ahead, behind, etc.).\n",
       "\n",
       "*   **Why use it:**\n",
       "    *   **At-a-glance Git status:**  You can quickly see the status of your Git repository without having to type `git status` every time.\n",
       "    *   **Improved workflow:**  Having Git information in your prompt can help you stay aware of your Git state and make fewer mistakes.\n",
       "    *   **Customization:** It offers customization options for the prompt's appearance (colors, symbols, information displayed).\n",
       "\n",
       "In order to use this file, you would typically source it in your `.bashrc` or `.zshrc` file.  For example, you might add a line like:\n",
       "\n",
       "```bash\n",
       "source /path/to/this/file.sh\n",
       "```\n",
       "\n",
       "to your `.bashrc` or `.zshrc` file. Then, you would need to open a new terminal or source the file to activate the changes.\n"
      ],
      "text/plain": [
       "<IPython.core.display.Markdown object>"
      ]
     },
     "execution_count": 32,
     "metadata": {},
     "output_type": "execute_result"
    }
   ],
   "source": [
    "file_contents = !curl https://raw.githubusercontent.com/magicmonty/bash-git-prompt/refs/heads/master/gitprompt.sh\n",
    "\n",
    "explain_prompt = f\"\"\"\n",
    "Please explain what this file does at a very high level. What is it, and why would I use it?\n",
    "\n",
    "```\n",
    "{file_contents}\n",
    "```\n",
    "\"\"\"\n",
    "\n",
    "response = client.models.generate_content(\n",
    "    model='gemini-2.0-flash',\n",
    "    contents=explain_prompt)\n",
    "\n",
    "Markdown(response.text)"
   ]
  },
  {
   "cell_type": "markdown",
   "id": "f97df651",
   "metadata": {
    "id": "2a8266d97ce5",
    "papermill": {
     "duration": 0.016262,
     "end_time": "2025-04-06T05:32:05.470845",
     "exception": false,
     "start_time": "2025-04-06T05:32:05.454583",
     "status": "completed"
    },
    "tags": []
   },
   "source": [
    "## Learn more\n",
    "\n",
    "To learn more about prompting in depth:\n",
    "\n",
    "* Check out the whitepaper issued with today's content,\n",
    "* Try out the apps listed at the top of this notebook ([TextFX](https://textfx.withgoogle.com/), [SQL Talk](https://sql-talk-r5gdynozbq-uc.a.run.app/) and [NotebookLM](https://notebooklm.google/)),\n",
    "* Read the [Introduction to Prompting](https://ai.google.dev/gemini-api/docs/prompting-intro) from the Gemini API docs,\n",
    "* Explore the Gemini API's [prompt gallery](https://ai.google.dev/gemini-api/prompts) and try them out in AI Studio,\n",
    "* Check out the Gemini API cookbook for [inspirational examples](https://github.com/google-gemini/cookbook/blob/main/examples/) and [educational quickstarts](https://github.com/google-gemini/cookbook/blob/main/quickstarts/).\n",
    "\n",
    "Be sure to check out the codelabs on day 3 too, where you will explore some more advanced prompting with code execution.\n",
    "\n",
    "And please share anything exciting you have tried in the Discord!\n",
    "\n",
    "*- [Mark McD](https://linktr.ee/markmcd)*"
   ]
  }
 ],
 "metadata": {
  "colab": {
   "name": "day-1-prompting.ipynb",
   "toc_visible": true
  },
  "kaggle": {
   "accelerator": "none",
   "dataSources": [],
   "dockerImageVersionId": 30786,
   "isGpuEnabled": false,
   "isInternetEnabled": true,
   "language": "python",
   "sourceType": "notebook"
  },
  "kernelspec": {
   "display_name": "Python 3",
   "language": "python",
   "name": "python3"
  },
  "language_info": {
   "codemirror_mode": {
    "name": "ipython",
    "version": 3
   },
   "file_extension": ".py",
   "mimetype": "text/x-python",
   "name": "python",
   "nbconvert_exporter": "python",
   "pygments_lexer": "ipython3",
   "version": "3.10.14"
  },
  "papermill": {
   "default_parameters": {},
   "duration": 96.086275,
   "end_time": "2025-04-06T05:32:06.212147",
   "environment_variables": {},
   "exception": null,
   "input_path": "__notebook__.ipynb",
   "output_path": "__notebook__.ipynb",
   "parameters": {},
   "start_time": "2025-04-06T05:30:30.125872",
   "version": "2.6.0"
  }
 },
 "nbformat": 4,
 "nbformat_minor": 5
}
